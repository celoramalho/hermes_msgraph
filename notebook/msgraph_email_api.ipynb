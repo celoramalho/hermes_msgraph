{
 "cells": [
  {
   "cell_type": "code",
   "execution_count": 1,
   "metadata": {},
   "outputs": [],
   "source": [
    "import json\n",
    "import requests\n",
    "import yaml\n",
    "import pandas as pd"
   ]
  },
  {
   "cell_type": "code",
   "execution_count": 2,
   "metadata": {},
   "outputs": [],
   "source": [
    "yaml_file_name = \"../api_text.yml\"\n",
    "\n",
    "with open(yaml_file_name, 'r') as test_users_file:\n",
    "    data_yml = yaml.full_load(test_users_file)\n",
    "\n",
    "client_id = data_yml['graph_app']['client_id']\n",
    "client_secret = data_yml['graph_app']['client_secret']\n",
    "tenant_id = data_yml['graph_app']['tenant_id']\n"
   ]
  },
  {
   "cell_type": "code",
   "execution_count": 3,
   "metadata": {},
   "outputs": [],
   "source": [
    "def get_access_token():\n",
    "    #url = f\"https://login.microsoftonline.com/{tenant_id}/oauth/v2.0/token\"\n",
    "    url = f\"https://login.microsoftonline.com/{tenant_id}/oauth2/v2.0/token\"\n",
    "    #url = f\"https://login.microsoftonline.com/{tenant_id}/oauth2/v2.0/authorize?client_id={client_id}&response_type=code&redirect_uri=https%3A%2F%2Flocalhost&response_mode=query&scope=offline_access%20Mail.ReadWrite%20Mail.send&state=12345644\"\n",
    "\n",
    "    payload = {\n",
    "        \"grant_type\": \"client_credentials\",\n",
    "        \"client_id\": client_id,\n",
    "        \"client_secret\": client_secret,\n",
    "        \"scope\": \"https://graph.microsoft.com/.default\"\n",
    "    }\n",
    "    try:\n",
    "        response = requests.post(url, data=payload)\n",
    "    except:\n",
    "        raise RuntimeError(\"Não foi possível retornar o request do post para pegar o access token\")\n",
    "    \n",
    "    print(f\"Resposta da microsoft a requisição do access token: {response}\")\n",
    "    response_data = response.json()\n",
    "    #print(response.json())\n",
    "    access_token = response_data['access_token']\n",
    "    return access_token"
   ]
  },
  {
   "cell_type": "code",
   "execution_count": 4,
   "metadata": {},
   "outputs": [],
   "source": [
    "def send_email():\n",
    "    access_token = get_access_token()\n",
    "    print(access_token)\n",
    "    headers = {\n",
    "        \"Authorization\": f\"Bearer {access_token}\",\n",
    "        \"Content-Type\": \"application/json\"\n",
    "    }\n",
    "\n",
    "    # url = \"https://graph.microsoft.com/v1.0/users/me/sendMail\".format(sender_mail)\n",
    "    url = \"https://graph.microsoft.com/v1.0/users/anakin.skywalker@fitenergia.com.br/sendMail\"\n",
    "\n",
    "    payload = {\n",
    "        \"message\": {\n",
    "            \"subject\": \"Test mail sent using Python\",\n",
    "            \"body\": {\n",
    "                \"contentType\": \"Text\",\n",
    "                \"content\": \"test mail generated using python on 03/10/2024\"\n",
    "            },\n",
    "            \"toRecipients\": [\n",
    "                {\n",
    "                    \"emailAddress\": {\n",
    "                        \"address\": \"marceloramalho.info@gmail.com\"\n",
    "                    }\n",
    "                }\n",
    "            ],\n",
    "            \"ccRecipients\": [\n",
    "                {\n",
    "                    \"emailAddress\": {\n",
    "                        \"address\": \"marcelo.ramalho@fitenergia.com.br\"\n",
    "                    }\n",
    "                }\n",
    "            ]\n",
    "        },\n",
    "        \"saveToSentItems\": \"true\"\n",
    "    }\n",
    "\n",
    "    response = requests.post(url, headers=headers, data=json.dumps(payload))\n",
    "    \n",
    "    try:\n",
    "        print(f\"Resposta da microsoft ao post para mandar e-mail: {response.text}\")\n",
    "    except:\n",
    "        raise RuntimeError(f\"Erro: não printou.\")\n",
    "\n",
    "    if response.status_code == 200:\n",
    "        graph_data = response.json()\n",
    "        #print(\"Graph API call result: \")\n",
    "        #print(json.dumps(graph_data, indent=2))\n",
    "    else:\n",
    "        print(\"Error: \")\n",
    "        #print(response.get(\"error\"))\n",
    "        #print(response.get(\"error_description\"))\n",
    "        #print(response.get(\"correlation_id\"))"
   ]
  },
  {
   "cell_type": "code",
   "execution_count": 5,
   "metadata": {},
   "outputs": [],
   "source": [
    "def read_email(messages_json_path, email_address, n_of_massages):\n",
    "    access_token = get_access_token()\n",
    "    print(\"Pegou\")\n",
    "    print(email_address)\n",
    "    headers = {\n",
    "        \"Authorization\": f\"Bearer {access_token}\",\n",
    "        \"Content-Type\": \"application/json\"\n",
    "    }\n",
    "    \n",
    "    #url = f\"https://graph.microsoft.com/v1.0/users/anakin.skywalker@fitenergia.com.br/messages/$top=2\"\n",
    "    url = f\"https://graph.microsoft.com/v1.0/users/{email_address}/messages?$top= {n_of_massages}\"\n",
    "    #?$select=sender,subject\n",
    "    \n",
    "    response = requests.get(url, headers=headers)\n",
    "    \n",
    "    if response.status_code == 200:\n",
    "        graph_data = response.json()\n",
    "        #print(\"Graph API call result: \")\n",
    "        #print(json.dumps(graph_data, indent=2))\n",
    "        messages = response.json().get('value', [])\n",
    "        try:\n",
    "            with open(messages_json_path, 'w+', encoding='utf-8') as file:\n",
    "                json.dump(messages, file, ensure_ascii=False, indent=4)\n",
    "                print(\"Mailbox messages saved in messages.json successfully\")\n",
    "        except:\n",
    "            raise RuntimeError(\"Não foi possível salvar as mensagens no arquivo messages.json\")\n",
    "        #    print(\"Subject:\", message.get('subject'))\n",
    "        #    print(\"From:\", message.get('from', {}).get('emailAddress', {}).get('address'))\n",
    "        #    print(\"Body Preview:\", message.get('bodyPreview'))\n",
    "        #    print(\"-------------------------------------------\\n\\n\")\n",
    "    else:\n",
    "        print(\"Error:\")\n",
    "        print(response)\n",
    "        #print(response.get(\"error\"))\n",
    "        #print(response.get(\"error_description\"))\n",
    "        #print(response.get(\"correlation_id\"))"
   ]
  },
  {
   "cell_type": "code",
   "execution_count": 6,
   "metadata": {},
   "outputs": [],
   "source": [
    "def json_to_dataframe(json_file_path):\n",
    "    with open(json_file_path, 'r') as file:\n",
    "        json_data = json.load(file)\n",
    "        print(f\"Json_data: {json_data}\")\n",
    "    df_messages = pd.json_normalize(json_data)\n",
    "    print(\"Json converted to dataframe successfully\")\n",
    "    return df_messages\n",
    "\n",
    "def organize_df_messages(df_messages):\n",
    "    #list(df_messages)\n",
    "    columns = ['subject', 'isRead', 'sentDateTime', 'receivedDateTime', 'sender.emailAddress.name', 'sender.emailAddress.address', 'from.emailAddress.name', 'from.emailAddress.address', 'bodyPreview', 'body.contentType',\n",
    "    'body.content']\n",
    "    df_emails = df_messages[columns]\n",
    "    print(\"DF clean created successfully\")\n",
    "    return df_emails\n",
    "\n",
    "def get_df_messages(email_address, n_of_massages=10, messages_json_path='messages.json'):\n",
    "    read_email(messages_json_path, email_address, n_of_massages)\n",
    "    df_full_messages = json_to_dataframe(messages_json_path)\n",
    "    df_messages = organize_df_messages(df_full_messages)\n",
    "    return df_messages"
   ]
  },
  {
   "cell_type": "code",
   "execution_count": null,
   "metadata": {},
   "outputs": [],
   "source": [
    "messages_json_path = 'messages.json'\n",
    "#send_email()\n",
    "#read_email()\n",
    "#email_address = 'teste@fitenergia.com.br'\n",
    "get_df_messages('teste@fitenergia.com.br')"
   ]
  },
  {
   "cell_type": "code",
   "execution_count": 8,
   "metadata": {},
   "outputs": [],
   "source": [
    "#token = get_access_token()"
   ]
  },
  {
   "cell_type": "code",
   "execution_count": 9,
   "metadata": {},
   "outputs": [],
   "source": [
    "#send_email()"
   ]
  }
 ],
 "metadata": {
  "kernelspec": {
   "display_name": "venv-anubis",
   "language": "python",
   "name": "python3"
  },
  "language_info": {
   "codemirror_mode": {
    "name": "ipython",
    "version": 3
   },
   "file_extension": ".py",
   "mimetype": "text/x-python",
   "name": "python",
   "nbconvert_exporter": "python",
   "pygments_lexer": "ipython3",
   "version": "3.12.3"
  }
 },
 "nbformat": 4,
 "nbformat_minor": 2
}
