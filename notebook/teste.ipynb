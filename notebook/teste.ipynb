{
 "cells": [
  {
   "cell_type": "code",
   "execution_count": null,
   "metadata": {},
   "outputs": [
    {
     "ename": "ModuleNotFoundError",
     "evalue": "No module named 'msgraph_email'",
     "output_type": "error",
     "traceback": [
      "\u001b[0;31m---------------------------------------------------------------------------\u001b[0m",
      "\u001b[0;31mModuleNotFoundError\u001b[0m                       Traceback (most recent call last)",
      "Cell \u001b[0;32mIn[1], line 1\u001b[0m\n\u001b[0;32m----> 1\u001b[0m \u001b[38;5;28;01mfrom\u001b[39;00m \u001b[38;5;21;01mmsgraph_email\u001b[39;00m \u001b[38;5;28;01mimport\u001b[39;00m MSGraphAPI\n\u001b[1;32m      2\u001b[0m \u001b[38;5;28;01mimport\u001b[39;00m \u001b[38;5;21;01myaml\u001b[39;00m\n\u001b[1;32m      3\u001b[0m \u001b[38;5;28;01mimport\u001b[39;00m \u001b[38;5;21;01mpandas\u001b[39;00m\n",
      "\u001b[0;31mModuleNotFoundError\u001b[0m: No module named 'msgraph_email'"
     ]
    }
   ],
   "source": [
    "from hermes_msgraph import MSGraphAPI\n",
    "import yaml\n",
    "import pandas\n",
    "from bs4 import BeautifulSoup"
   ]
  },
  {
   "cell_type": "code",
   "execution_count": null,
   "metadata": {},
   "outputs": [],
   "source": [
    "pandas.set_option('display.max_columns', 40)"
   ]
  },
  {
   "cell_type": "code",
   "execution_count": null,
   "metadata": {},
   "outputs": [],
   "source": [
    "with open('api_text.yml', 'r') as file:\n",
    "    data_yml = yaml.full_load(file)\n",
    "\n",
    "email_address = 'teste@fitenergia.com.br'"
   ]
  },
  {
   "cell_type": "code",
   "execution_count": null,
   "metadata": {},
   "outputs": [],
   "source": [
    "print(data_yml['graph_app']['tenant_id'])\n",
    "\n",
    "client_secret = data_yml['graph_app']['client_secret']\n",
    "client_id = data_yml['graph_app']['client_id']\n",
    "tenant_id = data_yml['graph_app']['tenant_id']"
   ]
  },
  {
   "cell_type": "code",
   "execution_count": null,
   "metadata": {},
   "outputs": [],
   "source": [
    "api = MSGraphAPI(**data_yml['graph_app']) #client_id: \"\" client_secret: \"\" tenant_id: \"\""
   ]
  },
  {
   "cell_type": "code",
   "execution_count": null,
   "metadata": {},
   "outputs": [],
   "source": [
    "df_emails = api.get_df_emails('teste@fitenergia.com.br', 1)"
   ]
  },
  {
   "cell_type": "code",
   "execution_count": null,
   "metadata": {},
   "outputs": [],
   "source": [
    "df_full_emails = api.get_raw_df_emails('teste@fitenergia.com.br', 1)"
   ]
  },
  {
   "cell_type": "code",
   "execution_count": null,
   "metadata": {},
   "outputs": [],
   "source": [
    "\n",
    "\n",
    "# Convert 'sentDateTime' to datetime and sort emails by the most recent\n",
    "df_sorted = df_emails .sort_values(by='sentDateTime', ascending=False)\n",
    "# Get the most recent email and extract its body content\n",
    "most_recent_email = df_sorted.iloc[0]\n",
    "email_body = most_recent_email['body.content']\n",
    "\n",
    "# Parse the email body with BeautifulSoup to find the reset link\n",
    "soup = BeautifulSoup(email_body, 'lxml')\n",
    "links = [a['href'] for a in soup.find_all('a', href=True)]\n",
    "\n",
    "# Return the first link found (assuming it's the reset link)\n",
    "\n",
    "if links:\n",
    "    print(links)\n",
    "else:\n",
    "    print(\"No reset link found in the most recent password reset email.\")\n"
   ]
  }
 ],
 "metadata": {
  "kernelspec": {
   "display_name": "Python 3",
   "language": "python",
   "name": "python3"
  },
  "language_info": {
   "codemirror_mode": {
    "name": "ipython",
    "version": 3
   },
   "file_extension": ".py",
   "mimetype": "text/x-python",
   "name": "python",
   "nbconvert_exporter": "python",
   "pygments_lexer": "ipython3",
   "version": "3.12.3"
  }
 },
 "nbformat": 4,
 "nbformat_minor": 2
}
