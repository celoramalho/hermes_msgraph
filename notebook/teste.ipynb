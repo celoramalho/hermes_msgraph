{
 "cells": [
  {
   "cell_type": "code",
   "execution_count": 1,
   "metadata": {},
   "outputs": [],
   "source": [
    "from msgraph_email import MSGraphAPI\n",
    "import yaml\n",
    "import pandas\n",
    "from bs4 import BeautifulSoup"
   ]
  },
  {
   "cell_type": "code",
   "execution_count": 2,
   "metadata": {},
   "outputs": [],
   "source": [
    "pandas.set_option('display.max_columns', 40)"
   ]
  },
  {
   "cell_type": "code",
   "execution_count": 1,
   "metadata": {},
   "outputs": [
    {
     "ename": "FileNotFoundError",
     "evalue": "[Errno 2] No such file or directory: 'api_text.yml'",
     "output_type": "error",
     "traceback": [
      "\u001b[0;31m---------------------------------------------------------------------------\u001b[0m",
      "\u001b[0;31mFileNotFoundError\u001b[0m                         Traceback (most recent call last)",
      "Cell \u001b[0;32mIn[1], line 1\u001b[0m\n\u001b[0;32m----> 1\u001b[0m \u001b[38;5;28;01mwith\u001b[39;00m \u001b[38;5;28;43mopen\u001b[39;49m\u001b[43m(\u001b[49m\u001b[38;5;124;43m'\u001b[39;49m\u001b[38;5;124;43mapi_text.yml\u001b[39;49m\u001b[38;5;124;43m'\u001b[39;49m\u001b[43m,\u001b[49m\u001b[43m \u001b[49m\u001b[38;5;124;43m'\u001b[39;49m\u001b[38;5;124;43mr\u001b[39;49m\u001b[38;5;124;43m'\u001b[39;49m\u001b[43m)\u001b[49m \u001b[38;5;28;01mas\u001b[39;00m file:\n\u001b[1;32m      2\u001b[0m     data_yml \u001b[38;5;241m=\u001b[39m yaml\u001b[38;5;241m.\u001b[39mfull_load(file)\n\u001b[1;32m      4\u001b[0m email_address \u001b[38;5;241m=\u001b[39m \u001b[38;5;124m'\u001b[39m\u001b[38;5;124mgustavo.rambaldi@fitenergia.com.br\u001b[39m\u001b[38;5;124m'\u001b[39m\n",
      "File \u001b[0;32m~/tech_mage/Environments/venv-anubis/lib/python3.12/site-packages/IPython/core/interactiveshell.py:324\u001b[0m, in \u001b[0;36m_modified_open\u001b[0;34m(file, *args, **kwargs)\u001b[0m\n\u001b[1;32m    317\u001b[0m \u001b[38;5;28;01mif\u001b[39;00m file \u001b[38;5;129;01min\u001b[39;00m {\u001b[38;5;241m0\u001b[39m, \u001b[38;5;241m1\u001b[39m, \u001b[38;5;241m2\u001b[39m}:\n\u001b[1;32m    318\u001b[0m     \u001b[38;5;28;01mraise\u001b[39;00m \u001b[38;5;167;01mValueError\u001b[39;00m(\n\u001b[1;32m    319\u001b[0m         \u001b[38;5;124mf\u001b[39m\u001b[38;5;124m\"\u001b[39m\u001b[38;5;124mIPython won\u001b[39m\u001b[38;5;124m'\u001b[39m\u001b[38;5;124mt let you open fd=\u001b[39m\u001b[38;5;132;01m{\u001b[39;00mfile\u001b[38;5;132;01m}\u001b[39;00m\u001b[38;5;124m by default \u001b[39m\u001b[38;5;124m\"\u001b[39m\n\u001b[1;32m    320\u001b[0m         \u001b[38;5;124m\"\u001b[39m\u001b[38;5;124mas it is likely to crash IPython. If you know what you are doing, \u001b[39m\u001b[38;5;124m\"\u001b[39m\n\u001b[1;32m    321\u001b[0m         \u001b[38;5;124m\"\u001b[39m\u001b[38;5;124myou can use builtins\u001b[39m\u001b[38;5;124m'\u001b[39m\u001b[38;5;124m open.\u001b[39m\u001b[38;5;124m\"\u001b[39m\n\u001b[1;32m    322\u001b[0m     )\n\u001b[0;32m--> 324\u001b[0m \u001b[38;5;28;01mreturn\u001b[39;00m \u001b[43mio_open\u001b[49m\u001b[43m(\u001b[49m\u001b[43mfile\u001b[49m\u001b[43m,\u001b[49m\u001b[43m \u001b[49m\u001b[38;5;241;43m*\u001b[39;49m\u001b[43margs\u001b[49m\u001b[43m,\u001b[49m\u001b[43m \u001b[49m\u001b[38;5;241;43m*\u001b[39;49m\u001b[38;5;241;43m*\u001b[39;49m\u001b[43mkwargs\u001b[49m\u001b[43m)\u001b[49m\n",
      "\u001b[0;31mFileNotFoundError\u001b[0m: [Errno 2] No such file or directory: 'api_text.yml'"
     ]
    }
   ],
   "source": [
    "with open('api_text.yml', 'r') as file:\n",
    "    data_yml = yaml.full_load(file)\n",
    "\n",
    "email_address = 'gustavo.rambaldi@fitenergia.com.br'"
   ]
  },
  {
   "cell_type": "code",
   "execution_count": 4,
   "metadata": {},
   "outputs": [
    {
     "name": "stdout",
     "output_type": "stream",
     "text": [
      "bdecaadd-b9fc-434b-941b-b5a0dd752dc4\n"
     ]
    }
   ],
   "source": [
    "print(data_yml['graph_app']['tenant_id'])\n",
    "\n",
    "client_secret = data_yml['graph_app']['client_secret']\n",
    "client_id = data_yml['graph_app']['client_id']\n",
    "tenant_id = data_yml['graph_app']['tenant_id']"
   ]
  },
  {
   "cell_type": "code",
   "execution_count": 5,
   "metadata": {},
   "outputs": [],
   "source": [
    "api = MSGraphAPI(**data_yml['graph_app']) #client_id: \"\" client_secret: \"\" tenant_id: \"\""
   ]
  },
  {
   "cell_type": "code",
   "execution_count": 6,
   "metadata": {},
   "outputs": [],
   "source": [
    "df_emails = api.get_df_emails('rc.rpa@fitenergia.com.br', 1)"
   ]
  },
  {
   "cell_type": "code",
   "execution_count": 7,
   "metadata": {},
   "outputs": [],
   "source": [
    "df_full_emails = api.get_raw_df_emails('rc.rpa@fitenergia.com.br', 1)"
   ]
  },
  {
   "cell_type": "code",
   "execution_count": 9,
   "metadata": {},
   "outputs": [
    {
     "name": "stdout",
     "output_type": "stream",
     "text": [
      "['https://nam10.safelinks.protection.outlook.com/?url=https%3A%2F%2Fagencia.elektro.com.br%2Flogin.aspx&data=05%7C02%7Crc.rpa%40fitenergia.com.br%7Cf753d9fe37df4d84e0be08dcf3b1ae5b%7Cbdecaaddb9fc434b941bb5a0dd752dc4%7C0%7C0%7C638653192040294570%7CUnknown%7CTWFpbGZsb3d8eyJWIjoiMC4wLjAwMDAiLCJQIjoiV2luMzIiLCJBTiI6Ik1haWwiLCJXVCI6Mn0%3D%7C0%7C%7C%7C&sdata=NFAku%2Bpo%2FKcq3BazCETOLSX3mQBQ1Is9NakeO0xbx5g%3D&reserved=0', 'https://nam10.safelinks.protection.outlook.com/?url=https%3A%2F%2Fagencia.elektro.com.br%2Flogin.aspx&data=05%7C02%7Crc.rpa%40fitenergia.com.br%7Cf753d9fe37df4d84e0be08dcf3b1ae5b%7Cbdecaaddb9fc434b941bb5a0dd752dc4%7C0%7C0%7C638653192040319887%7CUnknown%7CTWFpbGZsb3d8eyJWIjoiMC4wLjAwMDAiLCJQIjoiV2luMzIiLCJBTiI6Ik1haWwiLCJXVCI6Mn0%3D%7C0%7C%7C%7C&sdata=s9cVsvt1i1cKBL8mIJlsmeGGb8MFwRN1INm1VvD13XQ%3D&reserved=0', 'https://nam10.safelinks.protection.outlook.com/?url=https%3A%2F%2Fagencia.elektro.com.br%2Flogin.aspx&data=05%7C02%7Crc.rpa%40fitenergia.com.br%7Cf753d9fe37df4d84e0be08dcf3b1ae5b%7Cbdecaaddb9fc434b941bb5a0dd752dc4%7C0%7C0%7C638653192040334395%7CUnknown%7CTWFpbGZsb3d8eyJWIjoiMC4wLjAwMDAiLCJQIjoiV2luMzIiLCJBTiI6Ik1haWwiLCJXVCI6Mn0%3D%7C0%7C%7C%7C&sdata=a3mV3G7WsL9yvtbT%2F4pHAkQp2B8Fd4fBrdLET6tpW%2FE%3D&reserved=0', 'https://nam10.safelinks.protection.outlook.com/?url=https%3A%2F%2Fbit.ly%2Fneoenergiaoficial&data=05%7C02%7Crc.rpa%40fitenergia.com.br%7Cf753d9fe37df4d84e0be08dcf3b1ae5b%7Cbdecaaddb9fc434b941bb5a0dd752dc4%7C0%7C0%7C638653192040350909%7CUnknown%7CTWFpbGZsb3d8eyJWIjoiMC4wLjAwMDAiLCJQIjoiV2luMzIiLCJBTiI6Ik1haWwiLCJXVCI6Mn0%3D%7C0%7C%7C%7C&sdata=OOgNgq9Mm0Mq1wZoEsjQNNqlunIKlwVH1UgHy16w5Xk%3D&reserved=0']\n"
     ]
    }
   ],
   "source": [
    "\n",
    "\n",
    "# Convert 'sentDateTime' to datetime and sort emails by the most recent\n",
    "df_sorted = df_emails .sort_values(by='sentDateTime', ascending=False)\n",
    "# Get the most recent email and extract its body content\n",
    "most_recent_email = df_sorted.iloc[0]\n",
    "email_body = most_recent_email['body.content']\n",
    "\n",
    "# Parse the email body with BeautifulSoup to find the reset link\n",
    "soup = BeautifulSoup(email_body, 'lxml')\n",
    "links = [a['href'] for a in soup.find_all('a', href=True)]\n",
    "\n",
    "# Return the first link found (assuming it's the reset link)\n",
    "\n",
    "if links:\n",
    "    print(links)\n",
    "else:\n",
    "    print(\"No reset link found in the most recent password reset email.\")\n"
   ]
  }
 ],
 "metadata": {
  "kernelspec": {
   "display_name": "venv-anubis",
   "language": "python",
   "name": "python3"
  },
  "language_info": {
   "codemirror_mode": {
    "name": "ipython",
    "version": 3
   },
   "file_extension": ".py",
   "mimetype": "text/x-python",
   "name": "python",
   "nbconvert_exporter": "python",
   "pygments_lexer": "ipython3",
   "version": "3.12.3"
  }
 },
 "nbformat": 4,
 "nbformat_minor": 2
}
