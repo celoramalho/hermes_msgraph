{
 "cells": [
  {
   "cell_type": "code",
   "execution_count": 1,
   "metadata": {},
   "outputs": [],
   "source": [
    "from hermes_msgraph import HermesMSGraph\n",
    "import yaml\n",
    "import pandas\n",
    "#from bs4 import BeautifulSoup"
   ]
  },
  {
   "cell_type": "code",
   "execution_count": 2,
   "metadata": {},
   "outputs": [],
   "source": [
    "pandas.set_option('display.max_columns', 40)"
   ]
  },
  {
   "cell_type": "code",
   "execution_count": 3,
   "metadata": {},
   "outputs": [],
   "source": [
    "creds_msgraph_path = 'api_text.yml'\n",
    "\n",
    "with open(creds_msgraph_path, 'r') as file:\n",
    "    data_yaml = yaml.safe_load(file)\n",
    "    \n",
    "hermes = HermesMSGraph(\n",
    "    client_id=data_yaml[\"client_id\"],\n",
    "    client_secret=data_yaml[\"client_secret\"],\n",
    "    tenant_id=data_yaml[\"tenant_id\"]\n",
    ")\n",
    "\n",
    "mailbox_address = 'rpa.test@fitenergia.com.br'"
   ]
  },
  {
   "cell_type": "markdown",
   "metadata": {},
   "source": [
    "## Send e-mail using Hermes"
   ]
  },
  {
   "cell_type": "code",
   "execution_count": 4,
   "metadata": {},
   "outputs": [
    {
     "name": "stdout",
     "output_type": "stream",
     "text": [
      "Email sent successfully!\n"
     ]
    }
   ],
   "source": [
    "hermes.send_email(sender_mail = 'rpa.test@fitenergia.com.br', subject='Teste de e-mail RPA', body='Isso é um teste', to_address='marcelo.ramalho@fitenergia.com.br', cc_address='rpa.test@fitenergia.com.br')"
   ]
  },
  {
   "cell_type": "markdown",
   "metadata": {},
   "source": [
    "## Get e-mails from a mailbox address\n",
    "get_emails(mailbox_address = 'str')\n",
    "\n",
    "It must return a Pandas DataFrame if format = 'dataframe'\n",
    "\n",
    "It must return a list of emails in dict format if format='list' or not defined"
   ]
  },
  {
   "cell_type": "code",
   "execution_count": 5,
   "metadata": {},
   "outputs": [
    {
     "name": "stdout",
     "output_type": "stream",
     "text": [
      "<class 'pandas.core.frame.DataFrame'>\n"
     ]
    }
   ],
   "source": [
    "df_emails = hermes.get_emails('rpa.test@fitenergia.com.br', n_of_messages=1, data='simple', format='dataframe')\n",
    "print(type(df_emails))"
   ]
  },
  {
   "cell_type": "code",
   "execution_count": 6,
   "metadata": {},
   "outputs": [
    {
     "name": "stdout",
     "output_type": "stream",
     "text": [
      "<class 'list'>\n"
     ]
    }
   ],
   "source": [
    "dict_emails = hermes.get_emails('rpa.test@fitenergia.com.br', n_of_messages=1, data='simple', format = 'list')\n",
    "print(type(dict_emails))"
   ]
  },
  {
   "cell_type": "markdown",
   "metadata": {},
   "source": [
    "### Get e-mails Data\n",
    "It must return just the principal keys(dict) or columns(dataframe) if data='simple'\n",
    "\n",
    "It must return all keys(dict) or columns(dataframe) if data='all'"
   ]
  },
  {
   "cell_type": "code",
   "execution_count": 7,
   "metadata": {},
   "outputs": [],
   "source": [
    "df_full_columns_emails = hermes.get_emails('rpa.test@fitenergia.com.br', n_of_messages=1, data='all')\n",
    "df_filtered_columns_emails = hermes.get_emails('rpa.test@fitenergia.com.br', n_of_messages=1, data='simple')"
   ]
  },
  {
   "cell_type": "code",
   "execution_count": 8,
   "metadata": {},
   "outputs": [
    {
     "name": "stdout",
     "output_type": "stream",
     "text": [
      "Columns returned by get_emails when data='all' or data='raw': 33\n",
      "Columns returned by get_emails when data='simple': 12\n"
     ]
    }
   ],
   "source": [
    "print(f\"Columns returned by get_emails when data='all' or data='raw': {df_full_columns_emails.shape[1]}\")\n",
    "print(f\"Columns returned by get_emails when data='simple': {df_filtered_columns_emails.shape[1]}\")"
   ]
  },
  {
   "cell_type": "markdown",
   "metadata": {},
   "source": [
    "#### Testing get_emails method when no e-mails are found\n",
    "It must return empty dataframe if format parameter is definid with \"dataframe\" and None if format=\"dict\""
   ]
  },
  {
   "cell_type": "code",
   "execution_count": 9,
   "metadata": {},
   "outputs": [],
   "source": [
    "datetime_now = \"2025-12-01T00:00:00Z\""
   ]
  },
  {
   "cell_type": "code",
   "execution_count": 10,
   "metadata": {},
   "outputs": [
    {
     "name": "stdout",
     "output_type": "stream",
     "text": [
      "Empty DataFrame\n",
      "Columns: []\n",
      "Index: []\n"
     ]
    }
   ],
   "source": [
    "df_emails_empty = hermes.get_emails('rpa.test@fitenergia.com.br', n_of_messages=1, data='simple', greater_than_date=datetime_now, format='dataframe')\n",
    "print(df_emails_empty)"
   ]
  },
  {
   "cell_type": "code",
   "execution_count": 11,
   "metadata": {},
   "outputs": [
    {
     "name": "stdout",
     "output_type": "stream",
     "text": [
      "None\n"
     ]
    }
   ],
   "source": [
    "df_emails_empty = hermes.get_emails('rpa.test@fitenergia.com.br', n_of_messages=1, data='simple', greater_than_date=datetime_now, format='json')\n",
    "print(df_emails_empty)"
   ]
  },
  {
   "cell_type": "markdown",
   "metadata": {},
   "source": [
    "## Testing mailbox folder functions"
   ]
  },
  {
   "cell_type": "markdown",
   "metadata": {},
   "source": [
    "#### Get mailbox folders\n",
    "get_mailbox_folders(mailbox_address = 'str')\n",
    "\n",
    "It must return a Pandas DataFrame"
   ]
  },
  {
   "cell_type": "code",
   "execution_count": 12,
   "metadata": {},
   "outputs": [],
   "source": [
    "folders_in_mailbox_address = hermes.get_mailbox_folders(mailbox_address='rpa.test@fitenergia.com.br')"
   ]
  },
  {
   "cell_type": "code",
   "execution_count": 13,
   "metadata": {},
   "outputs": [
    {
     "data": {
      "text/html": [
       "<div>\n",
       "<style scoped>\n",
       "    .dataframe tbody tr th:only-of-type {\n",
       "        vertical-align: middle;\n",
       "    }\n",
       "\n",
       "    .dataframe tbody tr th {\n",
       "        vertical-align: top;\n",
       "    }\n",
       "\n",
       "    .dataframe thead th {\n",
       "        text-align: right;\n",
       "    }\n",
       "</style>\n",
       "<table border=\"1\" class=\"dataframe\">\n",
       "  <thead>\n",
       "    <tr style=\"text-align: right;\">\n",
       "      <th></th>\n",
       "      <th>@odata.type</th>\n",
       "      <th>id</th>\n",
       "      <th>displayName</th>\n",
       "    </tr>\n",
       "  </thead>\n",
       "  <tbody>\n",
       "    <tr>\n",
       "      <th>0</th>\n",
       "      <td>#microsoft.graph.mailFolder</td>\n",
       "      <td>AQMkADVmNDVmOWQxLTE3NDYtNDlmNC05NDYyLWU3MGY4Mj...</td>\n",
       "      <td>Archive</td>\n",
       "    </tr>\n",
       "    <tr>\n",
       "      <th>1</th>\n",
       "      <td>#microsoft.graph.mailFolder</td>\n",
       "      <td>AQMkADVmNDVmOWQxLTE3NDYtNDlmNC05NDYyLWU3MGY4Mj...</td>\n",
       "      <td>Conversation History</td>\n",
       "    </tr>\n",
       "    <tr>\n",
       "      <th>2</th>\n",
       "      <td>#microsoft.graph.mailFolder</td>\n",
       "      <td>AQMkADVmNDVmOWQxLTE3NDYtNDlmNC05NDYyLWU3MGY4Mj...</td>\n",
       "      <td>Deleted Items</td>\n",
       "    </tr>\n",
       "    <tr>\n",
       "      <th>3</th>\n",
       "      <td>#microsoft.graph.mailFolder</td>\n",
       "      <td>AQMkADVmNDVmOWQxLTE3NDYtNDlmNC05NDYyLWU3MGY4Mj...</td>\n",
       "      <td>Drafts</td>\n",
       "    </tr>\n",
       "    <tr>\n",
       "      <th>4</th>\n",
       "      <td>#microsoft.graph.mailFolder</td>\n",
       "      <td>AQMkADVmNDVmOWQxLTE3NDYtNDlmNC05NDYyLWU3MGY4Mj...</td>\n",
       "      <td>failed</td>\n",
       "    </tr>\n",
       "    <tr>\n",
       "      <th>5</th>\n",
       "      <td>#microsoft.graph.mailFolder</td>\n",
       "      <td>AQMkADVmNDVmOWQxLTE3NDYtNDlmNC05NDYyLWU3MGY4Mj...</td>\n",
       "      <td>Inbox</td>\n",
       "    </tr>\n",
       "    <tr>\n",
       "      <th>6</th>\n",
       "      <td>#microsoft.graph.mailFolder</td>\n",
       "      <td>AQMkADVmNDVmOWQxLTE3NDYtNDlmNC05NDYyLWU3MGY4Mj...</td>\n",
       "      <td>Junk Email</td>\n",
       "    </tr>\n",
       "    <tr>\n",
       "      <th>7</th>\n",
       "      <td>#microsoft.graph.mailFolder</td>\n",
       "      <td>AQMkADVmNDVmOWQxLTE3NDYtNDlmNC05NDYyLWU3MGY4Mj...</td>\n",
       "      <td>Outbox</td>\n",
       "    </tr>\n",
       "    <tr>\n",
       "      <th>8</th>\n",
       "      <td>#microsoft.graph.mailFolder</td>\n",
       "      <td>AQMkADVmNDVmOWQxLTE3NDYtNDlmNC05NDYyLWU3MGY4Mj...</td>\n",
       "      <td>processing</td>\n",
       "    </tr>\n",
       "    <tr>\n",
       "      <th>9</th>\n",
       "      <td>#microsoft.graph.mailFolder</td>\n",
       "      <td>AQMkADVmNDVmOWQxLTE3NDYtNDlmNC05NDYyLWU3MGY4Mj...</td>\n",
       "      <td>Sent Items</td>\n",
       "    </tr>\n",
       "    <tr>\n",
       "      <th>10</th>\n",
       "      <td>#microsoft.graph.mailFolder</td>\n",
       "      <td>AQMkADVmNDVmOWQxLTE3NDYtNDlmNC05NDYyLWU3MGY4Mj...</td>\n",
       "      <td>success</td>\n",
       "    </tr>\n",
       "  </tbody>\n",
       "</table>\n",
       "</div>"
      ],
      "text/plain": [
       "                    @odata.type  \\\n",
       "0   #microsoft.graph.mailFolder   \n",
       "1   #microsoft.graph.mailFolder   \n",
       "2   #microsoft.graph.mailFolder   \n",
       "3   #microsoft.graph.mailFolder   \n",
       "4   #microsoft.graph.mailFolder   \n",
       "5   #microsoft.graph.mailFolder   \n",
       "6   #microsoft.graph.mailFolder   \n",
       "7   #microsoft.graph.mailFolder   \n",
       "8   #microsoft.graph.mailFolder   \n",
       "9   #microsoft.graph.mailFolder   \n",
       "10  #microsoft.graph.mailFolder   \n",
       "\n",
       "                                                   id           displayName  \n",
       "0   AQMkADVmNDVmOWQxLTE3NDYtNDlmNC05NDYyLWU3MGY4Mj...               Archive  \n",
       "1   AQMkADVmNDVmOWQxLTE3NDYtNDlmNC05NDYyLWU3MGY4Mj...  Conversation History  \n",
       "2   AQMkADVmNDVmOWQxLTE3NDYtNDlmNC05NDYyLWU3MGY4Mj...         Deleted Items  \n",
       "3   AQMkADVmNDVmOWQxLTE3NDYtNDlmNC05NDYyLWU3MGY4Mj...                Drafts  \n",
       "4   AQMkADVmNDVmOWQxLTE3NDYtNDlmNC05NDYyLWU3MGY4Mj...                failed  \n",
       "5   AQMkADVmNDVmOWQxLTE3NDYtNDlmNC05NDYyLWU3MGY4Mj...                 Inbox  \n",
       "6   AQMkADVmNDVmOWQxLTE3NDYtNDlmNC05NDYyLWU3MGY4Mj...            Junk Email  \n",
       "7   AQMkADVmNDVmOWQxLTE3NDYtNDlmNC05NDYyLWU3MGY4Mj...                Outbox  \n",
       "8   AQMkADVmNDVmOWQxLTE3NDYtNDlmNC05NDYyLWU3MGY4Mj...            processing  \n",
       "9   AQMkADVmNDVmOWQxLTE3NDYtNDlmNC05NDYyLWU3MGY4Mj...            Sent Items  \n",
       "10  AQMkADVmNDVmOWQxLTE3NDYtNDlmNC05NDYyLWU3MGY4Mj...               success  "
      ]
     },
     "execution_count": 13,
     "metadata": {},
     "output_type": "execute_result"
    }
   ],
   "source": [
    "folders_in_mailbox_address"
   ]
  },
  {
   "cell_type": "code",
   "execution_count": 14,
   "metadata": {},
   "outputs": [],
   "source": [
    "one_email = hermes.get_emails('rpa.test@fitenergia.com.br', n_of_messages=1, data='simple', format='dict')"
   ]
  },
  {
   "cell_type": "code",
   "execution_count": 15,
   "metadata": {},
   "outputs": [
    {
     "ename": "HermesMSGraphError",
     "evalue": "Error moving email to folder: 403 - {\"error\":{\"code\":\"ErrorAccessDenied\",\"message\":\"Access is denied. Check credentials and try again.\"}}",
     "output_type": "error",
     "traceback": [
      "\u001b[0;31m---------------------------------------------------------------------------\u001b[0m",
      "\u001b[0;31mHermesMSGraphError\u001b[0m                        Traceback (most recent call last)",
      "Cell \u001b[0;32mIn[15], line 5\u001b[0m\n\u001b[1;32m      1\u001b[0m one_email \u001b[38;5;241m=\u001b[39m hermes\u001b[38;5;241m.\u001b[39mget_emails(\u001b[38;5;124m'\u001b[39m\u001b[38;5;124mrpa.test@fitenergia.com.br\u001b[39m\u001b[38;5;124m'\u001b[39m, n_of_messages\u001b[38;5;241m=\u001b[39m\u001b[38;5;241m1\u001b[39m, data\u001b[38;5;241m=\u001b[39m\u001b[38;5;124m'\u001b[39m\u001b[38;5;124msimple\u001b[39m\u001b[38;5;124m'\u001b[39m, \u001b[38;5;28mformat\u001b[39m\u001b[38;5;241m=\u001b[39m\u001b[38;5;124m'\u001b[39m\u001b[38;5;124mdict\u001b[39m\u001b[38;5;124m'\u001b[39m)\n\u001b[1;32m      3\u001b[0m email_id \u001b[38;5;241m=\u001b[39m one_email[\u001b[38;5;241m0\u001b[39m][\u001b[38;5;124m'\u001b[39m\u001b[38;5;124mid\u001b[39m\u001b[38;5;124m'\u001b[39m]\n\u001b[0;32m----> 5\u001b[0m \u001b[43mhermes\u001b[49m\u001b[38;5;241;43m.\u001b[39;49m\u001b[43mmove_email_to_folder\u001b[49m\u001b[43m(\u001b[49m\u001b[43memail_id\u001b[49m\u001b[38;5;241;43m=\u001b[39;49m\u001b[43memail_id\u001b[49m\u001b[43m,\u001b[49m\u001b[43m \u001b[49m\u001b[43mmailbox_address\u001b[49m\u001b[38;5;241;43m=\u001b[39;49m\u001b[38;5;124;43m'\u001b[39;49m\u001b[38;5;124;43mrpa.test@fitenergia.com.br\u001b[39;49m\u001b[38;5;124;43m'\u001b[39;49m\u001b[43m,\u001b[49m\u001b[43m \u001b[49m\u001b[43mfolder_name\u001b[49m\u001b[38;5;241;43m=\u001b[39;49m\u001b[38;5;124;43m'\u001b[39;49m\u001b[38;5;124;43mprocessing\u001b[39;49m\u001b[38;5;124;43m'\u001b[39;49m\u001b[43m)\u001b[49m\n",
      "File \u001b[0;32m~/rpa_libs/hermes_msgraph/hermes_msgraph.py:294\u001b[0m, in \u001b[0;36mHermesMSGraph.move_email_to_folder\u001b[0;34m(self, email_id, mailbox_address, folder_name, folder_id)\u001b[0m\n\u001b[1;32m    292\u001b[0m response \u001b[38;5;241m=\u001b[39m \u001b[38;5;28mself\u001b[39m\u001b[38;5;241m.\u001b[39mhttp\u001b[38;5;241m.\u001b[39mpost(url, payload\u001b[38;5;241m=\u001b[39mpayload)\n\u001b[1;32m    293\u001b[0m \u001b[38;5;28;01mif\u001b[39;00m response\u001b[38;5;241m.\u001b[39mstatus_code \u001b[38;5;241m==\u001b[39m \u001b[38;5;241m403\u001b[39m:\n\u001b[0;32m--> 294\u001b[0m     \u001b[38;5;28;01mraise\u001b[39;00m HermesMSGraphError(\u001b[38;5;124mf\u001b[39m\u001b[38;5;124m\"\u001b[39m\u001b[38;5;124mError moving email to folder: \u001b[39m\u001b[38;5;132;01m{\u001b[39;00mresponse\u001b[38;5;241m.\u001b[39mstatus_code\u001b[38;5;132;01m}\u001b[39;00m\u001b[38;5;124m - \u001b[39m\u001b[38;5;132;01m{\u001b[39;00mresponse\u001b[38;5;241m.\u001b[39mtext\u001b[38;5;132;01m}\u001b[39;00m\u001b[38;5;124m\"\u001b[39m)\n",
      "\u001b[0;31mHermesMSGraphError\u001b[0m: Error moving email to folder: 403 - {\"error\":{\"code\":\"ErrorAccessDenied\",\"message\":\"Access is denied. Check credentials and try again.\"}}"
     ]
    }
   ],
   "source": [
    "one_email = hermes.get_emails('rpa.test@fitenergia.com.br', n_of_messages=1, data='simple', format='dict')\n",
    "\n",
    "email_id = one_email[0]['id']\n",
    "\n",
    "hermes.move_email_to_folder(email_id=email_id, mailbox_address='rpa.test@fitenergia.com.br', folder_name='processing')"
   ]
  },
  {
   "cell_type": "markdown",
   "metadata": {},
   "source": [
    "## Raise Erros"
   ]
  },
  {
   "cell_type": "markdown",
   "metadata": {},
   "source": [
    "### Testin when mailbox_address is not found by MSGRaph API in get_emails"
   ]
  },
  {
   "cell_type": "code",
   "execution_count": null,
   "metadata": {},
   "outputs": [],
   "source": [
    "df_emails_in_invalid_mailbox_address = hermes.get_emails('aoushdoaudhs@fitenergia.com.br', n_of_messages=1, data='simple', greater_than_date=datetime_now, format='json')"
   ]
  },
  {
   "cell_type": "markdown",
   "metadata": {},
   "source": [
    "#### Testing when mailbox_address is not found in get_mailbox_folders\n",
    "It must raise an Error"
   ]
  },
  {
   "cell_type": "code",
   "execution_count": null,
   "metadata": {},
   "outputs": [
    {
     "ename": "HermesMSGraphError",
     "evalue": "Failed to retrieve folders for rpaaaa.test@fitenergia.com.br",
     "output_type": "error",
     "traceback": [
      "\u001b[0;31m---------------------------------------------------------------------------\u001b[0m",
      "\u001b[0;31mHermesMSGraphError\u001b[0m                        Traceback (most recent call last)",
      "Cell \u001b[0;32mIn[17], line 1\u001b[0m\n\u001b[0;32m----> 1\u001b[0m folders_in_invalid_mailbox_address \u001b[38;5;241m=\u001b[39m \u001b[43mhermes\u001b[49m\u001b[38;5;241;43m.\u001b[39;49m\u001b[43mget_mailbox_folders\u001b[49m\u001b[43m(\u001b[49m\u001b[43mmailbox_address\u001b[49m\u001b[38;5;241;43m=\u001b[39;49m\u001b[38;5;124;43m'\u001b[39;49m\u001b[38;5;124;43mrpaaaa.test@fitenergia.com.br\u001b[39;49m\u001b[38;5;124;43m'\u001b[39;49m\u001b[43m)\u001b[49m\n",
      "File \u001b[0;32m~/rpa_libs/hermes_msgraph/hermes_msgraph.py:107\u001b[0m, in \u001b[0;36mHermesMSGraph.get_mailbox_folders\u001b[0;34m(self, mailbox_address)\u001b[0m\n\u001b[1;32m    106\u001b[0m \u001b[38;5;28;01mdef\u001b[39;00m\u001b[38;5;250m \u001b[39m\u001b[38;5;21mget_mailbox_folders\u001b[39m(\u001b[38;5;28mself\u001b[39m, mailbox_address):\n\u001b[0;32m--> 107\u001b[0m     mail_folders \u001b[38;5;241m=\u001b[39m \u001b[38;5;28;43mself\u001b[39;49m\u001b[38;5;241;43m.\u001b[39;49m\u001b[43mlist_mailbox_folders\u001b[49m\u001b[43m(\u001b[49m\u001b[43mmailbox_address\u001b[49m\u001b[43m)\u001b[49m\n\u001b[1;32m    109\u001b[0m     df_mail_folders \u001b[38;5;241m=\u001b[39m pd\u001b[38;5;241m.\u001b[39mDataFrame(mail_folders)\n\u001b[1;32m    110\u001b[0m     \u001b[38;5;28;01mif\u001b[39;00m \u001b[38;5;129;01mnot\u001b[39;00m df_mail_folders\u001b[38;5;241m.\u001b[39mempty:\n",
      "File \u001b[0;32m~/rpa_libs/hermes_msgraph/hermes_msgraph.py:102\u001b[0m, in \u001b[0;36mHermesMSGraph.list_mailbox_folders\u001b[0;34m(self, mailbox_address)\u001b[0m\n\u001b[1;32m    100\u001b[0m         url \u001b[38;5;241m=\u001b[39m data\u001b[38;5;241m.\u001b[39mget(\u001b[38;5;124m\"\u001b[39m\u001b[38;5;124m@odata.nextLink\u001b[39m\u001b[38;5;124m\"\u001b[39m)\n\u001b[1;32m    101\u001b[0m     \u001b[38;5;28;01melse\u001b[39;00m:\n\u001b[0;32m--> 102\u001b[0m         \u001b[38;5;28;01mraise\u001b[39;00m HermesMSGraphError(\u001b[38;5;124mf\u001b[39m\u001b[38;5;124m\"\u001b[39m\u001b[38;5;124mFailed to retrieve folders for \u001b[39m\u001b[38;5;132;01m{\u001b[39;00mmailbox_address\u001b[38;5;132;01m}\u001b[39;00m\u001b[38;5;124m\"\u001b[39m)\n\u001b[1;32m    104\u001b[0m \u001b[38;5;28;01mreturn\u001b[39;00m all_folders\n",
      "\u001b[0;31mHermesMSGraphError\u001b[0m: Failed to retrieve folders for rpaaaa.test@fitenergia.com.br"
     ]
    }
   ],
   "source": [
    "folders_in_invalid_mailbox_address = hermes.get_mailbox_folders(mailbox_address='rpaaaa.test@fitenergia.com.br')"
   ]
  },
  {
   "cell_type": "code",
   "execution_count": null,
   "metadata": {},
   "outputs": [],
   "source": []
  }
 ],
 "metadata": {
  "kernelspec": {
   "display_name": "emails-distribuidoras-rpa",
   "language": "python",
   "name": "python3"
  },
  "language_info": {
   "codemirror_mode": {
    "name": "ipython",
    "version": 3
   },
   "file_extension": ".py",
   "mimetype": "text/x-python",
   "name": "python",
   "nbconvert_exporter": "python",
   "pygments_lexer": "ipython3",
   "version": "3.10.12"
  }
 },
 "nbformat": 4,
 "nbformat_minor": 2
}
