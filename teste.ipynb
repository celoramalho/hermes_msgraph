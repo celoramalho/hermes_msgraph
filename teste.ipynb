{
 "cells": [
  {
   "cell_type": "code",
   "execution_count": 1,
   "metadata": {},
   "outputs": [],
   "source": [
    "from hermes_msgraph import HermesMSGraph\n",
    "import yaml\n",
    "import pandas\n",
    "from bs4 import BeautifulSoup"
   ]
  },
  {
   "cell_type": "code",
   "execution_count": 2,
   "metadata": {},
   "outputs": [],
   "source": [
    "pandas.set_option('display.max_columns', 40)"
   ]
  },
  {
   "cell_type": "code",
   "execution_count": 3,
   "metadata": {},
   "outputs": [],
   "source": [
    "creds_msgraph_path = 'api_text.yml'\n",
    "\n",
    "with open(creds_msgraph_path, 'r') as file:\n",
    "    data_yaml = yaml.safe_load(file)\n",
    "    \n",
    "hermes = HermesMSGraph(\n",
    "    client_id=data_yaml[\"client_id\"],\n",
    "    client_secret=data_yaml[\"client_secret\"],\n",
    "    tenant_id=data_yaml[\"tenant_id\"]\n",
    ")\n",
    "\n",
    "mailbox_address = 'rpa.test@fitenergia.com.br'"
   ]
  },
  {
   "cell_type": "markdown",
   "metadata": {},
   "source": [
    "## Send e-mail using Hermes"
   ]
  },
  {
   "cell_type": "code",
   "execution_count": null,
   "metadata": {},
   "outputs": [],
   "source": [
    "hermes.send_email(sender_mail = 'rpa.test@fitenergia.com.br', subject='Teste de e-mail RPA', body='Isso é um teste', to_address='marcelo.ramalho@fitenergia.com.br', cc_address='rpa.test@fitenergia.com.br')"
   ]
  },
  {
   "cell_type": "markdown",
   "metadata": {},
   "source": [
    "## Get e-mails from a mailbox address"
   ]
  },
  {
   "cell_type": "code",
   "execution_count": 5,
   "metadata": {},
   "outputs": [],
   "source": [
    "df_emails = hermes.get_emails('rpa.test@fitenergia.com.br', n_of_messages=1, data='simple')"
   ]
  },
  {
   "cell_type": "code",
   "execution_count": null,
   "metadata": {},
   "outputs": [],
   "source": [
    "df_emails"
   ]
  },
  {
   "cell_type": "code",
   "execution_count": 7,
   "metadata": {},
   "outputs": [],
   "source": [
    "df_full_columns_emails = hermes.get_emails('rpa.test@fitenergia.com.br', n_of_messages=1, data='all')"
   ]
  },
  {
   "cell_type": "code",
   "execution_count": null,
   "metadata": {},
   "outputs": [],
   "source": [
    "df_full_columns_emails"
   ]
  },
  {
   "cell_type": "code",
   "execution_count": 9,
   "metadata": {},
   "outputs": [],
   "source": [
    "folders_in_mailbox_address = hermes.get_mailbox_folders(mailbox_address='rpa.test@fitenergia.com.br')"
   ]
  },
  {
   "cell_type": "code",
   "execution_count": null,
   "metadata": {},
   "outputs": [],
   "source": [
    "folders_in_mailbox_address"
   ]
  },
  {
   "cell_type": "code",
   "execution_count": null,
   "metadata": {},
   "outputs": [],
   "source": []
  }
 ],
 "metadata": {
  "kernelspec": {
   "display_name": "venv-anubis",
   "language": "python",
   "name": "python3"
  },
  "language_info": {
   "codemirror_mode": {
    "name": "ipython",
    "version": 3
   },
   "file_extension": ".py",
   "mimetype": "text/x-python",
   "name": "python",
   "nbconvert_exporter": "python",
   "pygments_lexer": "ipython3",
   "version": "3.12.3"
  }
 },
 "nbformat": 4,
 "nbformat_minor": 2
}
