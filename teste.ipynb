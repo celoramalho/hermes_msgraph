{
 "cells": [
  {
   "cell_type": "code",
   "execution_count": 1,
   "metadata": {},
   "outputs": [],
   "source": [
    "from hermes_msgraph import HermesMSGraph\n",
    "import yaml\n",
    "import pandas\n",
    "from bs4 import BeautifulSoup"
   ]
  },
  {
   "cell_type": "code",
   "execution_count": 2,
   "metadata": {},
   "outputs": [],
   "source": [
    "pandas.set_option('display.max_columns', 40)"
   ]
  },
  {
   "cell_type": "code",
   "execution_count": 3,
   "metadata": {},
   "outputs": [],
   "source": [
    "creds_msgraph_path = 'api_text.yml'\n",
    "\n",
    "with open(creds_msgraph_path, 'r') as file:\n",
    "    data_yaml = yaml.safe_load(file)\n",
    "    \n",
    "hermes = HermesMSGraph(\n",
    "    client_id=data_yaml[\"client_id\"],\n",
    "    client_secret=data_yaml[\"client_secret\"],\n",
    "    tenant_id=data_yaml[\"tenant_id\"]\n",
    ")\n",
    "\n",
    "mailbox_address = 'rpa.test@fitenergia.com.br'"
   ]
  },
  {
   "cell_type": "code",
   "execution_count": 9,
   "metadata": {},
   "outputs": [],
   "source": [
    "df_emails = hermes.get_emails('rpa.test@fitenergia.com.br', n_of_messages=1, data='simple')"
   ]
  },
  {
   "cell_type": "code",
   "execution_count": 10,
   "metadata": {},
   "outputs": [
    {
     "data": {
      "text/html": [
       "<div>\n",
       "<style scoped>\n",
       "    .dataframe tbody tr th:only-of-type {\n",
       "        vertical-align: middle;\n",
       "    }\n",
       "\n",
       "    .dataframe tbody tr th {\n",
       "        vertical-align: top;\n",
       "    }\n",
       "\n",
       "    .dataframe thead th {\n",
       "        text-align: right;\n",
       "    }\n",
       "</style>\n",
       "<table border=\"1\" class=\"dataframe\">\n",
       "  <thead>\n",
       "    <tr style=\"text-align: right;\">\n",
       "      <th></th>\n",
       "      <th>subject</th>\n",
       "      <th>isRead</th>\n",
       "      <th>sentDateTime</th>\n",
       "      <th>receivedDateTime</th>\n",
       "      <th>sender.emailAddress.name</th>\n",
       "      <th>sender.emailAddress.address</th>\n",
       "      <th>from.emailAddress.name</th>\n",
       "      <th>from.emailAddress.address</th>\n",
       "      <th>bodyPreview</th>\n",
       "      <th>body.contentType</th>\n",
       "      <th>body.content</th>\n",
       "      <th>id</th>\n",
       "    </tr>\n",
       "  </thead>\n",
       "  <tbody>\n",
       "    <tr>\n",
       "      <th>0</th>\n",
       "      <td>teste1</td>\n",
       "      <td>False</td>\n",
       "      <td>2025-01-17T02:40:27Z</td>\n",
       "      <td>2025-01-17T02:40:29Z</td>\n",
       "      <td>RPA Testes</td>\n",
       "      <td>rpa.testes@fitenergia.com.br</td>\n",
       "      <td>RPA Testes</td>\n",
       "      <td>rpa.testes@fitenergia.com.br</td>\n",
       "      <td>16-01-2025\\r\\n\\r\\nTeste\\r\\n\\r\\nMds agr que cai...</td>\n",
       "      <td>html</td>\n",
       "      <td>&lt;html&gt;&lt;head&gt;\\r\\n&lt;meta http-equiv=\"Content-Type...</td>\n",
       "      <td>AQMkADVmNDVmOWQxLTE3NDYtNDlmNC05NDYyLWU3MGY4Mj...</td>\n",
       "    </tr>\n",
       "  </tbody>\n",
       "</table>\n",
       "</div>"
      ],
      "text/plain": [
       "  subject  isRead          sentDateTime      receivedDateTime  \\\n",
       "0  teste1   False  2025-01-17T02:40:27Z  2025-01-17T02:40:29Z   \n",
       "\n",
       "  sender.emailAddress.name   sender.emailAddress.address  \\\n",
       "0               RPA Testes  rpa.testes@fitenergia.com.br   \n",
       "\n",
       "  from.emailAddress.name     from.emailAddress.address  \\\n",
       "0             RPA Testes  rpa.testes@fitenergia.com.br   \n",
       "\n",
       "                                         bodyPreview body.contentType  \\\n",
       "0  16-01-2025\\r\\n\\r\\nTeste\\r\\n\\r\\nMds agr que cai...             html   \n",
       "\n",
       "                                        body.content  \\\n",
       "0  <html><head>\\r\\n<meta http-equiv=\"Content-Type...   \n",
       "\n",
       "                                                  id  \n",
       "0  AQMkADVmNDVmOWQxLTE3NDYtNDlmNC05NDYyLWU3MGY4Mj...  "
      ]
     },
     "execution_count": 10,
     "metadata": {},
     "output_type": "execute_result"
    }
   ],
   "source": [
    "df_emails"
   ]
  },
  {
   "cell_type": "code",
   "execution_count": 11,
   "metadata": {},
   "outputs": [],
   "source": [
    "df_full_columns_emails = hermes.get_emails('rpa.test@fitenergia.com.br', n_of_messages=1, data='all')"
   ]
  }
 ],
 "metadata": {
  "kernelspec": {
   "display_name": "venv-anubis",
   "language": "python",
   "name": "python3"
  },
  "language_info": {
   "codemirror_mode": {
    "name": "ipython",
    "version": 3
   },
   "file_extension": ".py",
   "mimetype": "text/x-python",
   "name": "python",
   "nbconvert_exporter": "python",
   "pygments_lexer": "ipython3",
   "version": "3.12.3"
  }
 },
 "nbformat": 4,
 "nbformat_minor": 2
}
