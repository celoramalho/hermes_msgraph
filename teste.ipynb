{
 "cells": [
  {
   "cell_type": "code",
   "execution_count": 1,
   "metadata": {},
   "outputs": [],
   "source": [
    "from hermes_msgraph import HermesMSGraph\n",
    "import yaml\n",
    "import pandas\n",
    "import json\n",
    "from urllib.parse import quote\n",
    "#from bs4 import BeautifulSoup"
   ]
  },
  {
   "cell_type": "code",
   "execution_count": 2,
   "metadata": {},
   "outputs": [],
   "source": [
    "pandas.set_option('display.max_columns', 40)"
   ]
  },
  {
   "cell_type": "code",
   "execution_count": 3,
   "metadata": {},
   "outputs": [],
   "source": [
    "creds_msgraph_path = 'api_text.yml'\n",
    "\n",
    "with open(creds_msgraph_path, 'r') as file:\n",
    "    data_yaml = yaml.safe_load(file)\n",
    "    \n",
    "hermes = HermesMSGraph(\n",
    "    client_id=data_yaml[\"client_id\"],\n",
    "    client_secret=data_yaml[\"client_secret\"],\n",
    "    tenant_id=data_yaml[\"tenant_id\"]\n",
    ")\n",
    "\n",
    "mailbox_address = 'rpa.test@fitenergia.com.br'"
   ]
  },
  {
   "cell_type": "code",
   "execution_count": null,
   "metadata": {},
   "outputs": [],
   "source": [
    "hermes.list_msgraph_permissions()"
   ]
  },
  {
   "cell_type": "markdown",
   "metadata": {},
   "source": [
    "## Send e-mail using Hermes"
   ]
  },
  {
   "cell_type": "code",
   "execution_count": null,
   "metadata": {},
   "outputs": [],
   "source": [
    "hermes.send_email(sender_mail = 'rpa.test@fitenergia.com.br', subject='Teste de e-mail RPA', body='Isso é um teste', to_address='marcelo.ramalho@fitenergia.com.br', cc_address='rpa.test@fitenergia.com.br')"
   ]
  },
  {
   "cell_type": "markdown",
   "metadata": {},
   "source": [
    "## Get e-mails from a mailbox address\n",
    "get_emails(mailbox_address = 'str')\n",
    "\n",
    "It must return a Pandas DataFrame if format = 'dataframe'\n",
    "\n",
    "It must return a list of emails in dict format if format='list' or not defined"
   ]
  },
  {
   "cell_type": "code",
   "execution_count": null,
   "metadata": {},
   "outputs": [],
   "source": [
    "df_emails = hermes.get_emails('rpa.test@fitenergia.com.br', n_of_messages=1, data='simple', format='dataframe')\n",
    "print(type(df_emails))"
   ]
  },
  {
   "cell_type": "code",
   "execution_count": null,
   "metadata": {},
   "outputs": [],
   "source": [
    "dict_emails = hermes.get_emails('rpa.test@fitenergia.com.br', n_of_messages=1, data='simple', format = 'list')\n",
    "print(type(dict_emails))"
   ]
  },
  {
   "cell_type": "markdown",
   "metadata": {},
   "source": [
    "### Get e-mails Data\n",
    "It must return just the principal keys(dict) or columns(dataframe) if data='simple'\n",
    "\n",
    "It must return all keys(dict) or columns(dataframe) if data='all'"
   ]
  },
  {
   "cell_type": "code",
   "execution_count": 8,
   "metadata": {},
   "outputs": [],
   "source": [
    "df_full_columns_emails = hermes.get_emails('rpa.test@fitenergia.com.br', n_of_messages=1, data='all')\n",
    "df_filtered_columns_emails = hermes.get_emails('rpa.test@fitenergia.com.br', n_of_messages=1, data='simple')"
   ]
  },
  {
   "cell_type": "code",
   "execution_count": null,
   "metadata": {},
   "outputs": [],
   "source": [
    "print(f\"Columns returned by get_emails when data='all' or data='raw': {df_full_columns_emails.shape[1]}\")\n",
    "print(f\"Columns returned by get_emails when data='simple': {df_filtered_columns_emails.shape[1]}\")"
   ]
  },
  {
   "cell_type": "markdown",
   "metadata": {},
   "source": [
    "#### Testing get_emails method when no e-mails are found\n",
    "It must return empty dataframe if format parameter is definid with \"dataframe\" and None if format=\"dict\""
   ]
  },
  {
   "cell_type": "code",
   "execution_count": 10,
   "metadata": {},
   "outputs": [],
   "source": [
    "datetime_now = \"2025-12-01T00:00:00Z\""
   ]
  },
  {
   "cell_type": "code",
   "execution_count": null,
   "metadata": {},
   "outputs": [],
   "source": [
    "df_emails_empty = hermes.get_emails('rpa.test@fitenergia.com.br', n_of_messages=1, data='simple', greater_than_date=datetime_now, format='dataframe')\n",
    "print(df_emails_empty)"
   ]
  },
  {
   "cell_type": "code",
   "execution_count": null,
   "metadata": {},
   "outputs": [],
   "source": [
    "df_emails_empty = hermes.get_emails('rpa.test@fitenergia.com.br', n_of_messages=1, data='simple', greater_than_date=datetime_now, format='json')\n",
    "print(df_emails_empty)"
   ]
  },
  {
   "cell_type": "markdown",
   "metadata": {},
   "source": [
    "## Testing mailbox folder functions"
   ]
  },
  {
   "cell_type": "markdown",
   "metadata": {},
   "source": [
    "#### Get mailbox folders\n",
    "get_mailbox_folders(mailbox_address = 'str')\n",
    "\n",
    "It must return a Pandas DataFrame"
   ]
  },
  {
   "cell_type": "code",
   "execution_count": 13,
   "metadata": {},
   "outputs": [],
   "source": [
    "folders_in_mailbox_address = hermes.get_mailbox_folders(mailbox_address='rpa.test@fitenergia.com.br')"
   ]
  },
  {
   "cell_type": "code",
   "execution_count": null,
   "metadata": {},
   "outputs": [],
   "source": [
    "folders_in_mailbox_address"
   ]
  },
  {
   "cell_type": "code",
   "execution_count": 15,
   "metadata": {},
   "outputs": [],
   "source": [
    "one_email = hermes.get_emails('rpa.test@fitenergia.com.br', n_of_messages=1, data='simple', format='dict')"
   ]
  },
  {
   "cell_type": "code",
   "execution_count": null,
   "metadata": {},
   "outputs": [],
   "source": [
    "one_email = hermes.get_emails('rpa.test@fitenergia.com.br', n_of_messages=1, data='simple', format='dict')\n",
    "\n",
    "email_id = one_email[0]['id']\n",
    "#print(email_id)\n",
    "hermes.move_email_to_folder(email_id=email_id, mailbox_address='rpa.test@fitenergia.com.br', folder_name='processing')"
   ]
  },
  {
   "cell_type": "code",
   "execution_count": null,
   "metadata": {},
   "outputs": [],
   "source": [
    "payload = {\n",
    "    \"destinationId\": \"deleteditems\"\n",
    "}\n",
    "data = json.dumps(payload)\n",
    "print(type(payload))"
   ]
  },
  {
   "cell_type": "markdown",
   "metadata": {},
   "source": [
    "## Raise Erros"
   ]
  },
  {
   "cell_type": "markdown",
   "metadata": {},
   "source": [
    "### Testin when mailbox_address is not found by MSGRaph API in get_emails"
   ]
  },
  {
   "cell_type": "code",
   "execution_count": 18,
   "metadata": {},
   "outputs": [],
   "source": [
    "df_emails_in_invalid_mailbox_address = hermes.get_emails('aoushdoaudhs@fitenergia.com.br', n_of_messages=1, data='simple', greater_than_date=datetime_now, format='json')"
   ]
  },
  {
   "cell_type": "markdown",
   "metadata": {},
   "source": [
    "#### Testing when mailbox_address is not found in get_mailbox_folders\n",
    "It must raise an Error"
   ]
  },
  {
   "cell_type": "code",
   "execution_count": null,
   "metadata": {},
   "outputs": [],
   "source": [
    "folders_in_invalid_mailbox_address = hermes.get_mailbox_folders(mailbox_address='rpaaaa.test@fitenergia.com.br')"
   ]
  },
  {
   "cell_type": "code",
   "execution_count": 22,
   "metadata": {},
   "outputs": [],
   "source": [
    "email = hermes.get_email_by_id(email_id = email_id , mailbox_address='rpa.test@fitenergia.com.br')"
   ]
  },
  {
   "cell_type": "code",
   "execution_count": null,
   "metadata": {},
   "outputs": [],
   "source": []
  }
 ],
 "metadata": {
  "kernelspec": {
   "display_name": "emails-distribuidoras-rpa",
   "language": "python",
   "name": "python3"
  },
  "language_info": {
   "codemirror_mode": {
    "name": "ipython",
    "version": 3
   },
   "file_extension": ".py",
   "mimetype": "text/x-python",
   "name": "python",
   "nbconvert_exporter": "python",
   "pygments_lexer": "ipython3",
   "version": "3.10.12"
  }
 },
 "nbformat": 4,
 "nbformat_minor": 2
}
